{
  "cells": [
    {
      "cell_type": "markdown",
      "id": "950a28c4",
      "metadata": {
        "papermill": {
          "duration": 0.034942,
          "end_time": "2021-11-19T05:00:40.043396",
          "exception": false,
          "start_time": "2021-11-19T05:00:40.008454",
          "status": "completed"
        },
        "tags": [],
        "id": "950a28c4"
      },
      "source": [
        "# <center><b><u>Number Recognition using CNN</u></b> </center>"
      ]
    },
    {
      "cell_type": "markdown",
      "id": "933cb0f5",
      "metadata": {
        "papermill": {
          "duration": 0.03162,
          "end_time": "2021-11-19T05:00:40.171009",
          "exception": false,
          "start_time": "2021-11-19T05:00:40.139389",
          "status": "completed"
        },
        "tags": [],
        "id": "933cb0f5"
      },
      "source": [
        "### **Importing Libraries**"
      ]
    },
    {
      "cell_type": "code",
      "execution_count": 1,
      "id": "bba080ea",
      "metadata": {
        "_cell_guid": "b1076dfc-b9ad-4769-8c92-a6c4dae69d19",
        "_uuid": "8f2839f25d086af736a60e9eeb907d3b93b6e0e5",
        "execution": {
          "iopub.execute_input": "2021-11-19T05:00:40.249865Z",
          "iopub.status.busy": "2021-11-19T05:00:40.249313Z",
          "iopub.status.idle": "2021-11-19T05:00:40.258139Z",
          "shell.execute_reply": "2021-11-19T05:00:40.258595Z",
          "shell.execute_reply.started": "2021-11-19T03:01:59.32628Z"
        },
        "papermill": {
          "duration": 0.05256,
          "end_time": "2021-11-19T05:00:40.258843",
          "exception": false,
          "start_time": "2021-11-19T05:00:40.206283",
          "status": "completed"
        },
        "tags": [],
        "id": "bba080ea"
      },
      "outputs": [],
      "source": [
        "import numpy as np # linear algebra\n",
        "import pandas as pd # data processing, CSV file I/O (e.g. pd.read_csv)\n",
        "import matplotlib.pyplot as plt\n",
        "import random\n"
      ]
    },
    {
      "cell_type": "markdown",
      "id": "69039a01",
      "metadata": {
        "papermill": {
          "duration": 0.033029,
          "end_time": "2021-11-19T05:00:40.326277",
          "exception": false,
          "start_time": "2021-11-19T05:00:40.293248",
          "status": "completed"
        },
        "tags": [],
        "id": "69039a01"
      },
      "source": [
        "### **Reading Training and Testing CSV Files**"
      ]
    },
    {
      "cell_type": "code",
      "execution_count": 2,
      "id": "5fdc1cac",
      "metadata": {
        "execution": {
          "iopub.execute_input": "2021-11-19T05:00:40.398490Z",
          "iopub.status.busy": "2021-11-19T05:00:40.395483Z",
          "iopub.status.idle": "2021-11-19T05:00:45.624228Z",
          "shell.execute_reply": "2021-11-19T05:00:45.623644Z",
          "shell.execute_reply.started": "2021-11-19T03:02:03.132106Z"
        },
        "papermill": {
          "duration": 5.263579,
          "end_time": "2021-11-19T05:00:45.624360",
          "exception": false,
          "start_time": "2021-11-19T05:00:40.360781",
          "status": "completed"
        },
        "tags": [],
        "id": "5fdc1cac"
      },
      "outputs": [],
      "source": [
        "train_df=pd.read_csv('train 11.csv')\n",
        "test_df=pd.read_csv('test.csv')"
      ]
    },
    {
      "cell_type": "code",
      "execution_count": 3,
      "id": "020595e4",
      "metadata": {
        "execution": {
          "iopub.execute_input": "2021-11-19T05:00:45.724140Z",
          "iopub.status.busy": "2021-11-19T05:00:45.723501Z",
          "iopub.status.idle": "2021-11-19T05:00:45.740648Z",
          "shell.execute_reply": "2021-11-19T05:00:45.741178Z",
          "shell.execute_reply.started": "2021-11-19T03:02:09.367151Z"
        },
        "papermill": {
          "duration": 0.071058,
          "end_time": "2021-11-19T05:00:45.741361",
          "exception": false,
          "start_time": "2021-11-19T05:00:45.670303",
          "status": "completed"
        },
        "tags": [],
        "id": "020595e4",
        "outputId": "d60edf92-1679-4e79-f3c9-932bc30f4df3",
        "colab": {
          "base_uri": "https://localhost:8080/",
          "height": 255
        }
      },
      "outputs": [
        {
          "output_type": "execute_result",
          "data": {
            "text/plain": [
              "   label  pixel0  pixel1  pixel2  pixel3  pixel4  pixel5  pixel6  pixel7  \\\n",
              "0      1       0       0       0       0       0       0       0       0   \n",
              "1      0       0       0       0       0       0       0       0       0   \n",
              "2      1       0       0       0       0       0       0       0       0   \n",
              "3      4       0       0       0       0       0       0       0       0   \n",
              "4      0       0       0       0       0       0       0       0       0   \n",
              "\n",
              "   pixel8  ...  pixel774  pixel775  pixel776  pixel777  pixel778  pixel779  \\\n",
              "0       0  ...       0.0       0.0       0.0       0.0       0.0       0.0   \n",
              "1       0  ...       0.0       0.0       0.0       0.0       0.0       0.0   \n",
              "2       0  ...       0.0       0.0       0.0       0.0       0.0       0.0   \n",
              "3       0  ...       0.0       0.0       0.0       0.0       0.0       0.0   \n",
              "4       0  ...       0.0       0.0       0.0       0.0       0.0       0.0   \n",
              "\n",
              "   pixel780  pixel781  pixel782  pixel783  \n",
              "0       0.0       0.0       0.0       0.0  \n",
              "1       0.0       0.0       0.0       0.0  \n",
              "2       0.0       0.0       0.0       0.0  \n",
              "3       0.0       0.0       0.0       0.0  \n",
              "4       0.0       0.0       0.0       0.0  \n",
              "\n",
              "[5 rows x 785 columns]"
            ],
            "text/html": [
              "\n",
              "  <div id=\"df-de6df35e-4db1-4fd1-a41c-cc1020b34c41\" class=\"colab-df-container\">\n",
              "    <div>\n",
              "<style scoped>\n",
              "    .dataframe tbody tr th:only-of-type {\n",
              "        vertical-align: middle;\n",
              "    }\n",
              "\n",
              "    .dataframe tbody tr th {\n",
              "        vertical-align: top;\n",
              "    }\n",
              "\n",
              "    .dataframe thead th {\n",
              "        text-align: right;\n",
              "    }\n",
              "</style>\n",
              "<table border=\"1\" class=\"dataframe\">\n",
              "  <thead>\n",
              "    <tr style=\"text-align: right;\">\n",
              "      <th></th>\n",
              "      <th>label</th>\n",
              "      <th>pixel0</th>\n",
              "      <th>pixel1</th>\n",
              "      <th>pixel2</th>\n",
              "      <th>pixel3</th>\n",
              "      <th>pixel4</th>\n",
              "      <th>pixel5</th>\n",
              "      <th>pixel6</th>\n",
              "      <th>pixel7</th>\n",
              "      <th>pixel8</th>\n",
              "      <th>...</th>\n",
              "      <th>pixel774</th>\n",
              "      <th>pixel775</th>\n",
              "      <th>pixel776</th>\n",
              "      <th>pixel777</th>\n",
              "      <th>pixel778</th>\n",
              "      <th>pixel779</th>\n",
              "      <th>pixel780</th>\n",
              "      <th>pixel781</th>\n",
              "      <th>pixel782</th>\n",
              "      <th>pixel783</th>\n",
              "    </tr>\n",
              "  </thead>\n",
              "  <tbody>\n",
              "    <tr>\n",
              "      <th>0</th>\n",
              "      <td>1</td>\n",
              "      <td>0</td>\n",
              "      <td>0</td>\n",
              "      <td>0</td>\n",
              "      <td>0</td>\n",
              "      <td>0</td>\n",
              "      <td>0</td>\n",
              "      <td>0</td>\n",
              "      <td>0</td>\n",
              "      <td>0</td>\n",
              "      <td>...</td>\n",
              "      <td>0.0</td>\n",
              "      <td>0.0</td>\n",
              "      <td>0.0</td>\n",
              "      <td>0.0</td>\n",
              "      <td>0.0</td>\n",
              "      <td>0.0</td>\n",
              "      <td>0.0</td>\n",
              "      <td>0.0</td>\n",
              "      <td>0.0</td>\n",
              "      <td>0.0</td>\n",
              "    </tr>\n",
              "    <tr>\n",
              "      <th>1</th>\n",
              "      <td>0</td>\n",
              "      <td>0</td>\n",
              "      <td>0</td>\n",
              "      <td>0</td>\n",
              "      <td>0</td>\n",
              "      <td>0</td>\n",
              "      <td>0</td>\n",
              "      <td>0</td>\n",
              "      <td>0</td>\n",
              "      <td>0</td>\n",
              "      <td>...</td>\n",
              "      <td>0.0</td>\n",
              "      <td>0.0</td>\n",
              "      <td>0.0</td>\n",
              "      <td>0.0</td>\n",
              "      <td>0.0</td>\n",
              "      <td>0.0</td>\n",
              "      <td>0.0</td>\n",
              "      <td>0.0</td>\n",
              "      <td>0.0</td>\n",
              "      <td>0.0</td>\n",
              "    </tr>\n",
              "    <tr>\n",
              "      <th>2</th>\n",
              "      <td>1</td>\n",
              "      <td>0</td>\n",
              "      <td>0</td>\n",
              "      <td>0</td>\n",
              "      <td>0</td>\n",
              "      <td>0</td>\n",
              "      <td>0</td>\n",
              "      <td>0</td>\n",
              "      <td>0</td>\n",
              "      <td>0</td>\n",
              "      <td>...</td>\n",
              "      <td>0.0</td>\n",
              "      <td>0.0</td>\n",
              "      <td>0.0</td>\n",
              "      <td>0.0</td>\n",
              "      <td>0.0</td>\n",
              "      <td>0.0</td>\n",
              "      <td>0.0</td>\n",
              "      <td>0.0</td>\n",
              "      <td>0.0</td>\n",
              "      <td>0.0</td>\n",
              "    </tr>\n",
              "    <tr>\n",
              "      <th>3</th>\n",
              "      <td>4</td>\n",
              "      <td>0</td>\n",
              "      <td>0</td>\n",
              "      <td>0</td>\n",
              "      <td>0</td>\n",
              "      <td>0</td>\n",
              "      <td>0</td>\n",
              "      <td>0</td>\n",
              "      <td>0</td>\n",
              "      <td>0</td>\n",
              "      <td>...</td>\n",
              "      <td>0.0</td>\n",
              "      <td>0.0</td>\n",
              "      <td>0.0</td>\n",
              "      <td>0.0</td>\n",
              "      <td>0.0</td>\n",
              "      <td>0.0</td>\n",
              "      <td>0.0</td>\n",
              "      <td>0.0</td>\n",
              "      <td>0.0</td>\n",
              "      <td>0.0</td>\n",
              "    </tr>\n",
              "    <tr>\n",
              "      <th>4</th>\n",
              "      <td>0</td>\n",
              "      <td>0</td>\n",
              "      <td>0</td>\n",
              "      <td>0</td>\n",
              "      <td>0</td>\n",
              "      <td>0</td>\n",
              "      <td>0</td>\n",
              "      <td>0</td>\n",
              "      <td>0</td>\n",
              "      <td>0</td>\n",
              "      <td>...</td>\n",
              "      <td>0.0</td>\n",
              "      <td>0.0</td>\n",
              "      <td>0.0</td>\n",
              "      <td>0.0</td>\n",
              "      <td>0.0</td>\n",
              "      <td>0.0</td>\n",
              "      <td>0.0</td>\n",
              "      <td>0.0</td>\n",
              "      <td>0.0</td>\n",
              "      <td>0.0</td>\n",
              "    </tr>\n",
              "  </tbody>\n",
              "</table>\n",
              "<p>5 rows × 785 columns</p>\n",
              "</div>\n",
              "    <div class=\"colab-df-buttons\">\n",
              "\n",
              "  <div class=\"colab-df-container\">\n",
              "    <button class=\"colab-df-convert\" onclick=\"convertToInteractive('df-de6df35e-4db1-4fd1-a41c-cc1020b34c41')\"\n",
              "            title=\"Convert this dataframe to an interactive table.\"\n",
              "            style=\"display:none;\">\n",
              "\n",
              "  <svg xmlns=\"http://www.w3.org/2000/svg\" height=\"24px\" viewBox=\"0 -960 960 960\">\n",
              "    <path d=\"M120-120v-720h720v720H120Zm60-500h600v-160H180v160Zm220 220h160v-160H400v160Zm0 220h160v-160H400v160ZM180-400h160v-160H180v160Zm440 0h160v-160H620v160ZM180-180h160v-160H180v160Zm440 0h160v-160H620v160Z\"/>\n",
              "  </svg>\n",
              "    </button>\n",
              "\n",
              "  <style>\n",
              "    .colab-df-container {\n",
              "      display:flex;\n",
              "      gap: 12px;\n",
              "    }\n",
              "\n",
              "    .colab-df-convert {\n",
              "      background-color: #E8F0FE;\n",
              "      border: none;\n",
              "      border-radius: 50%;\n",
              "      cursor: pointer;\n",
              "      display: none;\n",
              "      fill: #1967D2;\n",
              "      height: 32px;\n",
              "      padding: 0 0 0 0;\n",
              "      width: 32px;\n",
              "    }\n",
              "\n",
              "    .colab-df-convert:hover {\n",
              "      background-color: #E2EBFA;\n",
              "      box-shadow: 0px 1px 2px rgba(60, 64, 67, 0.3), 0px 1px 3px 1px rgba(60, 64, 67, 0.15);\n",
              "      fill: #174EA6;\n",
              "    }\n",
              "\n",
              "    .colab-df-buttons div {\n",
              "      margin-bottom: 4px;\n",
              "    }\n",
              "\n",
              "    [theme=dark] .colab-df-convert {\n",
              "      background-color: #3B4455;\n",
              "      fill: #D2E3FC;\n",
              "    }\n",
              "\n",
              "    [theme=dark] .colab-df-convert:hover {\n",
              "      background-color: #434B5C;\n",
              "      box-shadow: 0px 1px 3px 1px rgba(0, 0, 0, 0.15);\n",
              "      filter: drop-shadow(0px 1px 2px rgba(0, 0, 0, 0.3));\n",
              "      fill: #FFFFFF;\n",
              "    }\n",
              "  </style>\n",
              "\n",
              "    <script>\n",
              "      const buttonEl =\n",
              "        document.querySelector('#df-de6df35e-4db1-4fd1-a41c-cc1020b34c41 button.colab-df-convert');\n",
              "      buttonEl.style.display =\n",
              "        google.colab.kernel.accessAllowed ? 'block' : 'none';\n",
              "\n",
              "      async function convertToInteractive(key) {\n",
              "        const element = document.querySelector('#df-de6df35e-4db1-4fd1-a41c-cc1020b34c41');\n",
              "        const dataTable =\n",
              "          await google.colab.kernel.invokeFunction('convertToInteractive',\n",
              "                                                    [key], {});\n",
              "        if (!dataTable) return;\n",
              "\n",
              "        const docLinkHtml = 'Like what you see? Visit the ' +\n",
              "          '<a target=\"_blank\" href=https://colab.research.google.com/notebooks/data_table.ipynb>data table notebook</a>'\n",
              "          + ' to learn more about interactive tables.';\n",
              "        element.innerHTML = '';\n",
              "        dataTable['output_type'] = 'display_data';\n",
              "        await google.colab.output.renderOutput(dataTable, element);\n",
              "        const docLink = document.createElement('div');\n",
              "        docLink.innerHTML = docLinkHtml;\n",
              "        element.appendChild(docLink);\n",
              "      }\n",
              "    </script>\n",
              "  </div>\n",
              "\n",
              "\n",
              "<div id=\"df-4baa7d5a-ab1f-4cb2-98ed-5ee2098ab076\">\n",
              "  <button class=\"colab-df-quickchart\" onclick=\"quickchart('df-4baa7d5a-ab1f-4cb2-98ed-5ee2098ab076')\"\n",
              "            title=\"Suggest charts.\"\n",
              "            style=\"display:none;\">\n",
              "\n",
              "<svg xmlns=\"http://www.w3.org/2000/svg\" height=\"24px\"viewBox=\"0 0 24 24\"\n",
              "     width=\"24px\">\n",
              "    <g>\n",
              "        <path d=\"M19 3H5c-1.1 0-2 .9-2 2v14c0 1.1.9 2 2 2h14c1.1 0 2-.9 2-2V5c0-1.1-.9-2-2-2zM9 17H7v-7h2v7zm4 0h-2V7h2v10zm4 0h-2v-4h2v4z\"/>\n",
              "    </g>\n",
              "</svg>\n",
              "  </button>\n",
              "\n",
              "<style>\n",
              "  .colab-df-quickchart {\n",
              "      --bg-color: #E8F0FE;\n",
              "      --fill-color: #1967D2;\n",
              "      --hover-bg-color: #E2EBFA;\n",
              "      --hover-fill-color: #174EA6;\n",
              "      --disabled-fill-color: #AAA;\n",
              "      --disabled-bg-color: #DDD;\n",
              "  }\n",
              "\n",
              "  [theme=dark] .colab-df-quickchart {\n",
              "      --bg-color: #3B4455;\n",
              "      --fill-color: #D2E3FC;\n",
              "      --hover-bg-color: #434B5C;\n",
              "      --hover-fill-color: #FFFFFF;\n",
              "      --disabled-bg-color: #3B4455;\n",
              "      --disabled-fill-color: #666;\n",
              "  }\n",
              "\n",
              "  .colab-df-quickchart {\n",
              "    background-color: var(--bg-color);\n",
              "    border: none;\n",
              "    border-radius: 50%;\n",
              "    cursor: pointer;\n",
              "    display: none;\n",
              "    fill: var(--fill-color);\n",
              "    height: 32px;\n",
              "    padding: 0;\n",
              "    width: 32px;\n",
              "  }\n",
              "\n",
              "  .colab-df-quickchart:hover {\n",
              "    background-color: var(--hover-bg-color);\n",
              "    box-shadow: 0 1px 2px rgba(60, 64, 67, 0.3), 0 1px 3px 1px rgba(60, 64, 67, 0.15);\n",
              "    fill: var(--button-hover-fill-color);\n",
              "  }\n",
              "\n",
              "  .colab-df-quickchart-complete:disabled,\n",
              "  .colab-df-quickchart-complete:disabled:hover {\n",
              "    background-color: var(--disabled-bg-color);\n",
              "    fill: var(--disabled-fill-color);\n",
              "    box-shadow: none;\n",
              "  }\n",
              "\n",
              "  .colab-df-spinner {\n",
              "    border: 2px solid var(--fill-color);\n",
              "    border-color: transparent;\n",
              "    border-bottom-color: var(--fill-color);\n",
              "    animation:\n",
              "      spin 1s steps(1) infinite;\n",
              "  }\n",
              "\n",
              "  @keyframes spin {\n",
              "    0% {\n",
              "      border-color: transparent;\n",
              "      border-bottom-color: var(--fill-color);\n",
              "      border-left-color: var(--fill-color);\n",
              "    }\n",
              "    20% {\n",
              "      border-color: transparent;\n",
              "      border-left-color: var(--fill-color);\n",
              "      border-top-color: var(--fill-color);\n",
              "    }\n",
              "    30% {\n",
              "      border-color: transparent;\n",
              "      border-left-color: var(--fill-color);\n",
              "      border-top-color: var(--fill-color);\n",
              "      border-right-color: var(--fill-color);\n",
              "    }\n",
              "    40% {\n",
              "      border-color: transparent;\n",
              "      border-right-color: var(--fill-color);\n",
              "      border-top-color: var(--fill-color);\n",
              "    }\n",
              "    60% {\n",
              "      border-color: transparent;\n",
              "      border-right-color: var(--fill-color);\n",
              "    }\n",
              "    80% {\n",
              "      border-color: transparent;\n",
              "      border-right-color: var(--fill-color);\n",
              "      border-bottom-color: var(--fill-color);\n",
              "    }\n",
              "    90% {\n",
              "      border-color: transparent;\n",
              "      border-bottom-color: var(--fill-color);\n",
              "    }\n",
              "  }\n",
              "</style>\n",
              "\n",
              "  <script>\n",
              "    async function quickchart(key) {\n",
              "      const quickchartButtonEl =\n",
              "        document.querySelector('#' + key + ' button');\n",
              "      quickchartButtonEl.disabled = true;  // To prevent multiple clicks.\n",
              "      quickchartButtonEl.classList.add('colab-df-spinner');\n",
              "      try {\n",
              "        const charts = await google.colab.kernel.invokeFunction(\n",
              "            'suggestCharts', [key], {});\n",
              "      } catch (error) {\n",
              "        console.error('Error during call to suggestCharts:', error);\n",
              "      }\n",
              "      quickchartButtonEl.classList.remove('colab-df-spinner');\n",
              "      quickchartButtonEl.classList.add('colab-df-quickchart-complete');\n",
              "    }\n",
              "    (() => {\n",
              "      let quickchartButtonEl =\n",
              "        document.querySelector('#df-4baa7d5a-ab1f-4cb2-98ed-5ee2098ab076 button');\n",
              "      quickchartButtonEl.style.display =\n",
              "        google.colab.kernel.accessAllowed ? 'block' : 'none';\n",
              "    })();\n",
              "  </script>\n",
              "</div>\n",
              "    </div>\n",
              "  </div>\n"
            ]
          },
          "metadata": {},
          "execution_count": 3
        }
      ],
      "source": [
        "train_df.head()"
      ]
    },
    {
      "cell_type": "code",
      "execution_count": 4,
      "id": "fd8e4ca7",
      "metadata": {
        "execution": {
          "iopub.execute_input": "2021-11-19T05:00:45.837671Z",
          "iopub.status.busy": "2021-11-19T05:00:45.837063Z",
          "iopub.status.idle": "2021-11-19T05:00:45.849559Z",
          "shell.execute_reply": "2021-11-19T05:00:45.850095Z",
          "shell.execute_reply.started": "2021-11-19T03:02:10.625359Z"
        },
        "papermill": {
          "duration": 0.062028,
          "end_time": "2021-11-19T05:00:45.850271",
          "exception": false,
          "start_time": "2021-11-19T05:00:45.788243",
          "status": "completed"
        },
        "tags": [],
        "id": "fd8e4ca7",
        "outputId": "7e15a328-9c0d-4bc7-94ac-a395eba55211",
        "colab": {
          "base_uri": "https://localhost:8080/",
          "height": 255
        }
      },
      "outputs": [
        {
          "output_type": "execute_result",
          "data": {
            "text/plain": [
              "   pixel0  pixel1  pixel2  pixel3  pixel4  pixel5  pixel6  pixel7  pixel8  \\\n",
              "0       0       0       0       0       0       0       0       0       0   \n",
              "1       0       0       0       0       0       0       0       0       0   \n",
              "2       0       0       0       0       0       0       0       0       0   \n",
              "3       0       0       0       0       0       0       0       0       0   \n",
              "4       0       0       0       0       0       0       0       0       0   \n",
              "\n",
              "   pixel9  ...  pixel774  pixel775  pixel776  pixel777  pixel778  pixel779  \\\n",
              "0       0  ...       0.0       0.0       0.0       0.0       0.0       0.0   \n",
              "1       0  ...       0.0       0.0       0.0       0.0       0.0       0.0   \n",
              "2       0  ...       0.0       0.0       0.0       0.0       0.0       0.0   \n",
              "3       0  ...       0.0       0.0       0.0       0.0       0.0       0.0   \n",
              "4       0  ...       0.0       0.0       0.0       0.0       0.0       0.0   \n",
              "\n",
              "   pixel780  pixel781  pixel782  pixel783  \n",
              "0       0.0       0.0       0.0       0.0  \n",
              "1       0.0       0.0       0.0       0.0  \n",
              "2       0.0       0.0       0.0       0.0  \n",
              "3       0.0       0.0       0.0       0.0  \n",
              "4       0.0       0.0       0.0       0.0  \n",
              "\n",
              "[5 rows x 784 columns]"
            ],
            "text/html": [
              "\n",
              "  <div id=\"df-386f5209-a5e0-4668-becf-752b54e3cd29\" class=\"colab-df-container\">\n",
              "    <div>\n",
              "<style scoped>\n",
              "    .dataframe tbody tr th:only-of-type {\n",
              "        vertical-align: middle;\n",
              "    }\n",
              "\n",
              "    .dataframe tbody tr th {\n",
              "        vertical-align: top;\n",
              "    }\n",
              "\n",
              "    .dataframe thead th {\n",
              "        text-align: right;\n",
              "    }\n",
              "</style>\n",
              "<table border=\"1\" class=\"dataframe\">\n",
              "  <thead>\n",
              "    <tr style=\"text-align: right;\">\n",
              "      <th></th>\n",
              "      <th>pixel0</th>\n",
              "      <th>pixel1</th>\n",
              "      <th>pixel2</th>\n",
              "      <th>pixel3</th>\n",
              "      <th>pixel4</th>\n",
              "      <th>pixel5</th>\n",
              "      <th>pixel6</th>\n",
              "      <th>pixel7</th>\n",
              "      <th>pixel8</th>\n",
              "      <th>pixel9</th>\n",
              "      <th>...</th>\n",
              "      <th>pixel774</th>\n",
              "      <th>pixel775</th>\n",
              "      <th>pixel776</th>\n",
              "      <th>pixel777</th>\n",
              "      <th>pixel778</th>\n",
              "      <th>pixel779</th>\n",
              "      <th>pixel780</th>\n",
              "      <th>pixel781</th>\n",
              "      <th>pixel782</th>\n",
              "      <th>pixel783</th>\n",
              "    </tr>\n",
              "  </thead>\n",
              "  <tbody>\n",
              "    <tr>\n",
              "      <th>0</th>\n",
              "      <td>0</td>\n",
              "      <td>0</td>\n",
              "      <td>0</td>\n",
              "      <td>0</td>\n",
              "      <td>0</td>\n",
              "      <td>0</td>\n",
              "      <td>0</td>\n",
              "      <td>0</td>\n",
              "      <td>0</td>\n",
              "      <td>0</td>\n",
              "      <td>...</td>\n",
              "      <td>0.0</td>\n",
              "      <td>0.0</td>\n",
              "      <td>0.0</td>\n",
              "      <td>0.0</td>\n",
              "      <td>0.0</td>\n",
              "      <td>0.0</td>\n",
              "      <td>0.0</td>\n",
              "      <td>0.0</td>\n",
              "      <td>0.0</td>\n",
              "      <td>0.0</td>\n",
              "    </tr>\n",
              "    <tr>\n",
              "      <th>1</th>\n",
              "      <td>0</td>\n",
              "      <td>0</td>\n",
              "      <td>0</td>\n",
              "      <td>0</td>\n",
              "      <td>0</td>\n",
              "      <td>0</td>\n",
              "      <td>0</td>\n",
              "      <td>0</td>\n",
              "      <td>0</td>\n",
              "      <td>0</td>\n",
              "      <td>...</td>\n",
              "      <td>0.0</td>\n",
              "      <td>0.0</td>\n",
              "      <td>0.0</td>\n",
              "      <td>0.0</td>\n",
              "      <td>0.0</td>\n",
              "      <td>0.0</td>\n",
              "      <td>0.0</td>\n",
              "      <td>0.0</td>\n",
              "      <td>0.0</td>\n",
              "      <td>0.0</td>\n",
              "    </tr>\n",
              "    <tr>\n",
              "      <th>2</th>\n",
              "      <td>0</td>\n",
              "      <td>0</td>\n",
              "      <td>0</td>\n",
              "      <td>0</td>\n",
              "      <td>0</td>\n",
              "      <td>0</td>\n",
              "      <td>0</td>\n",
              "      <td>0</td>\n",
              "      <td>0</td>\n",
              "      <td>0</td>\n",
              "      <td>...</td>\n",
              "      <td>0.0</td>\n",
              "      <td>0.0</td>\n",
              "      <td>0.0</td>\n",
              "      <td>0.0</td>\n",
              "      <td>0.0</td>\n",
              "      <td>0.0</td>\n",
              "      <td>0.0</td>\n",
              "      <td>0.0</td>\n",
              "      <td>0.0</td>\n",
              "      <td>0.0</td>\n",
              "    </tr>\n",
              "    <tr>\n",
              "      <th>3</th>\n",
              "      <td>0</td>\n",
              "      <td>0</td>\n",
              "      <td>0</td>\n",
              "      <td>0</td>\n",
              "      <td>0</td>\n",
              "      <td>0</td>\n",
              "      <td>0</td>\n",
              "      <td>0</td>\n",
              "      <td>0</td>\n",
              "      <td>0</td>\n",
              "      <td>...</td>\n",
              "      <td>0.0</td>\n",
              "      <td>0.0</td>\n",
              "      <td>0.0</td>\n",
              "      <td>0.0</td>\n",
              "      <td>0.0</td>\n",
              "      <td>0.0</td>\n",
              "      <td>0.0</td>\n",
              "      <td>0.0</td>\n",
              "      <td>0.0</td>\n",
              "      <td>0.0</td>\n",
              "    </tr>\n",
              "    <tr>\n",
              "      <th>4</th>\n",
              "      <td>0</td>\n",
              "      <td>0</td>\n",
              "      <td>0</td>\n",
              "      <td>0</td>\n",
              "      <td>0</td>\n",
              "      <td>0</td>\n",
              "      <td>0</td>\n",
              "      <td>0</td>\n",
              "      <td>0</td>\n",
              "      <td>0</td>\n",
              "      <td>...</td>\n",
              "      <td>0.0</td>\n",
              "      <td>0.0</td>\n",
              "      <td>0.0</td>\n",
              "      <td>0.0</td>\n",
              "      <td>0.0</td>\n",
              "      <td>0.0</td>\n",
              "      <td>0.0</td>\n",
              "      <td>0.0</td>\n",
              "      <td>0.0</td>\n",
              "      <td>0.0</td>\n",
              "    </tr>\n",
              "  </tbody>\n",
              "</table>\n",
              "<p>5 rows × 784 columns</p>\n",
              "</div>\n",
              "    <div class=\"colab-df-buttons\">\n",
              "\n",
              "  <div class=\"colab-df-container\">\n",
              "    <button class=\"colab-df-convert\" onclick=\"convertToInteractive('df-386f5209-a5e0-4668-becf-752b54e3cd29')\"\n",
              "            title=\"Convert this dataframe to an interactive table.\"\n",
              "            style=\"display:none;\">\n",
              "\n",
              "  <svg xmlns=\"http://www.w3.org/2000/svg\" height=\"24px\" viewBox=\"0 -960 960 960\">\n",
              "    <path d=\"M120-120v-720h720v720H120Zm60-500h600v-160H180v160Zm220 220h160v-160H400v160Zm0 220h160v-160H400v160ZM180-400h160v-160H180v160Zm440 0h160v-160H620v160ZM180-180h160v-160H180v160Zm440 0h160v-160H620v160Z\"/>\n",
              "  </svg>\n",
              "    </button>\n",
              "\n",
              "  <style>\n",
              "    .colab-df-container {\n",
              "      display:flex;\n",
              "      gap: 12px;\n",
              "    }\n",
              "\n",
              "    .colab-df-convert {\n",
              "      background-color: #E8F0FE;\n",
              "      border: none;\n",
              "      border-radius: 50%;\n",
              "      cursor: pointer;\n",
              "      display: none;\n",
              "      fill: #1967D2;\n",
              "      height: 32px;\n",
              "      padding: 0 0 0 0;\n",
              "      width: 32px;\n",
              "    }\n",
              "\n",
              "    .colab-df-convert:hover {\n",
              "      background-color: #E2EBFA;\n",
              "      box-shadow: 0px 1px 2px rgba(60, 64, 67, 0.3), 0px 1px 3px 1px rgba(60, 64, 67, 0.15);\n",
              "      fill: #174EA6;\n",
              "    }\n",
              "\n",
              "    .colab-df-buttons div {\n",
              "      margin-bottom: 4px;\n",
              "    }\n",
              "\n",
              "    [theme=dark] .colab-df-convert {\n",
              "      background-color: #3B4455;\n",
              "      fill: #D2E3FC;\n",
              "    }\n",
              "\n",
              "    [theme=dark] .colab-df-convert:hover {\n",
              "      background-color: #434B5C;\n",
              "      box-shadow: 0px 1px 3px 1px rgba(0, 0, 0, 0.15);\n",
              "      filter: drop-shadow(0px 1px 2px rgba(0, 0, 0, 0.3));\n",
              "      fill: #FFFFFF;\n",
              "    }\n",
              "  </style>\n",
              "\n",
              "    <script>\n",
              "      const buttonEl =\n",
              "        document.querySelector('#df-386f5209-a5e0-4668-becf-752b54e3cd29 button.colab-df-convert');\n",
              "      buttonEl.style.display =\n",
              "        google.colab.kernel.accessAllowed ? 'block' : 'none';\n",
              "\n",
              "      async function convertToInteractive(key) {\n",
              "        const element = document.querySelector('#df-386f5209-a5e0-4668-becf-752b54e3cd29');\n",
              "        const dataTable =\n",
              "          await google.colab.kernel.invokeFunction('convertToInteractive',\n",
              "                                                    [key], {});\n",
              "        if (!dataTable) return;\n",
              "\n",
              "        const docLinkHtml = 'Like what you see? Visit the ' +\n",
              "          '<a target=\"_blank\" href=https://colab.research.google.com/notebooks/data_table.ipynb>data table notebook</a>'\n",
              "          + ' to learn more about interactive tables.';\n",
              "        element.innerHTML = '';\n",
              "        dataTable['output_type'] = 'display_data';\n",
              "        await google.colab.output.renderOutput(dataTable, element);\n",
              "        const docLink = document.createElement('div');\n",
              "        docLink.innerHTML = docLinkHtml;\n",
              "        element.appendChild(docLink);\n",
              "      }\n",
              "    </script>\n",
              "  </div>\n",
              "\n",
              "\n",
              "<div id=\"df-3869d826-f765-4951-8723-659e3d21b635\">\n",
              "  <button class=\"colab-df-quickchart\" onclick=\"quickchart('df-3869d826-f765-4951-8723-659e3d21b635')\"\n",
              "            title=\"Suggest charts.\"\n",
              "            style=\"display:none;\">\n",
              "\n",
              "<svg xmlns=\"http://www.w3.org/2000/svg\" height=\"24px\"viewBox=\"0 0 24 24\"\n",
              "     width=\"24px\">\n",
              "    <g>\n",
              "        <path d=\"M19 3H5c-1.1 0-2 .9-2 2v14c0 1.1.9 2 2 2h14c1.1 0 2-.9 2-2V5c0-1.1-.9-2-2-2zM9 17H7v-7h2v7zm4 0h-2V7h2v10zm4 0h-2v-4h2v4z\"/>\n",
              "    </g>\n",
              "</svg>\n",
              "  </button>\n",
              "\n",
              "<style>\n",
              "  .colab-df-quickchart {\n",
              "      --bg-color: #E8F0FE;\n",
              "      --fill-color: #1967D2;\n",
              "      --hover-bg-color: #E2EBFA;\n",
              "      --hover-fill-color: #174EA6;\n",
              "      --disabled-fill-color: #AAA;\n",
              "      --disabled-bg-color: #DDD;\n",
              "  }\n",
              "\n",
              "  [theme=dark] .colab-df-quickchart {\n",
              "      --bg-color: #3B4455;\n",
              "      --fill-color: #D2E3FC;\n",
              "      --hover-bg-color: #434B5C;\n",
              "      --hover-fill-color: #FFFFFF;\n",
              "      --disabled-bg-color: #3B4455;\n",
              "      --disabled-fill-color: #666;\n",
              "  }\n",
              "\n",
              "  .colab-df-quickchart {\n",
              "    background-color: var(--bg-color);\n",
              "    border: none;\n",
              "    border-radius: 50%;\n",
              "    cursor: pointer;\n",
              "    display: none;\n",
              "    fill: var(--fill-color);\n",
              "    height: 32px;\n",
              "    padding: 0;\n",
              "    width: 32px;\n",
              "  }\n",
              "\n",
              "  .colab-df-quickchart:hover {\n",
              "    background-color: var(--hover-bg-color);\n",
              "    box-shadow: 0 1px 2px rgba(60, 64, 67, 0.3), 0 1px 3px 1px rgba(60, 64, 67, 0.15);\n",
              "    fill: var(--button-hover-fill-color);\n",
              "  }\n",
              "\n",
              "  .colab-df-quickchart-complete:disabled,\n",
              "  .colab-df-quickchart-complete:disabled:hover {\n",
              "    background-color: var(--disabled-bg-color);\n",
              "    fill: var(--disabled-fill-color);\n",
              "    box-shadow: none;\n",
              "  }\n",
              "\n",
              "  .colab-df-spinner {\n",
              "    border: 2px solid var(--fill-color);\n",
              "    border-color: transparent;\n",
              "    border-bottom-color: var(--fill-color);\n",
              "    animation:\n",
              "      spin 1s steps(1) infinite;\n",
              "  }\n",
              "\n",
              "  @keyframes spin {\n",
              "    0% {\n",
              "      border-color: transparent;\n",
              "      border-bottom-color: var(--fill-color);\n",
              "      border-left-color: var(--fill-color);\n",
              "    }\n",
              "    20% {\n",
              "      border-color: transparent;\n",
              "      border-left-color: var(--fill-color);\n",
              "      border-top-color: var(--fill-color);\n",
              "    }\n",
              "    30% {\n",
              "      border-color: transparent;\n",
              "      border-left-color: var(--fill-color);\n",
              "      border-top-color: var(--fill-color);\n",
              "      border-right-color: var(--fill-color);\n",
              "    }\n",
              "    40% {\n",
              "      border-color: transparent;\n",
              "      border-right-color: var(--fill-color);\n",
              "      border-top-color: var(--fill-color);\n",
              "    }\n",
              "    60% {\n",
              "      border-color: transparent;\n",
              "      border-right-color: var(--fill-color);\n",
              "    }\n",
              "    80% {\n",
              "      border-color: transparent;\n",
              "      border-right-color: var(--fill-color);\n",
              "      border-bottom-color: var(--fill-color);\n",
              "    }\n",
              "    90% {\n",
              "      border-color: transparent;\n",
              "      border-bottom-color: var(--fill-color);\n",
              "    }\n",
              "  }\n",
              "</style>\n",
              "\n",
              "  <script>\n",
              "    async function quickchart(key) {\n",
              "      const quickchartButtonEl =\n",
              "        document.querySelector('#' + key + ' button');\n",
              "      quickchartButtonEl.disabled = true;  // To prevent multiple clicks.\n",
              "      quickchartButtonEl.classList.add('colab-df-spinner');\n",
              "      try {\n",
              "        const charts = await google.colab.kernel.invokeFunction(\n",
              "            'suggestCharts', [key], {});\n",
              "      } catch (error) {\n",
              "        console.error('Error during call to suggestCharts:', error);\n",
              "      }\n",
              "      quickchartButtonEl.classList.remove('colab-df-spinner');\n",
              "      quickchartButtonEl.classList.add('colab-df-quickchart-complete');\n",
              "    }\n",
              "    (() => {\n",
              "      let quickchartButtonEl =\n",
              "        document.querySelector('#df-3869d826-f765-4951-8723-659e3d21b635 button');\n",
              "      quickchartButtonEl.style.display =\n",
              "        google.colab.kernel.accessAllowed ? 'block' : 'none';\n",
              "    })();\n",
              "  </script>\n",
              "</div>\n",
              "    </div>\n",
              "  </div>\n"
            ]
          },
          "metadata": {},
          "execution_count": 4
        }
      ],
      "source": [
        "test_df.head()"
      ]
    },
    {
      "cell_type": "markdown",
      "id": "11475af4",
      "metadata": {
        "papermill": {
          "duration": 0.046078,
          "end_time": "2021-11-19T05:00:45.942917",
          "exception": false,
          "start_time": "2021-11-19T05:00:45.896839",
          "status": "completed"
        },
        "tags": [],
        "id": "11475af4"
      },
      "source": [
        "### **Seperating the Feature and the target columns**"
      ]
    },
    {
      "cell_type": "code",
      "execution_count": 5,
      "id": "5e951d87",
      "metadata": {
        "execution": {
          "iopub.execute_input": "2021-11-19T05:00:46.039726Z",
          "iopub.status.busy": "2021-11-19T05:00:46.039213Z",
          "iopub.status.idle": "2021-11-19T05:00:46.096710Z",
          "shell.execute_reply": "2021-11-19T05:00:46.096207Z",
          "shell.execute_reply.started": "2021-11-19T03:02:13.970955Z"
        },
        "papermill": {
          "duration": 0.107503,
          "end_time": "2021-11-19T05:00:46.096837",
          "exception": false,
          "start_time": "2021-11-19T05:00:45.989334",
          "status": "completed"
        },
        "tags": [],
        "id": "5e951d87"
      },
      "outputs": [],
      "source": [
        "x=train_df.drop('label',axis=1).values\n",
        "y=train_df['label'].values"
      ]
    },
    {
      "cell_type": "markdown",
      "id": "7668fbd7",
      "metadata": {
        "papermill": {
          "duration": 0.033055,
          "end_time": "2021-11-19T05:00:46.163309",
          "exception": false,
          "start_time": "2021-11-19T05:00:46.130254",
          "status": "completed"
        },
        "tags": [],
        "id": "7668fbd7"
      },
      "source": [
        "### **Distribution of images of digits in the dataset**"
      ]
    },
    {
      "cell_type": "code",
      "execution_count": 6,
      "id": "428dcd63",
      "metadata": {
        "execution": {
          "iopub.execute_input": "2021-11-19T05:00:46.235202Z",
          "iopub.status.busy": "2021-11-19T05:00:46.234635Z",
          "iopub.status.idle": "2021-11-19T05:00:46.417954Z",
          "shell.execute_reply": "2021-11-19T05:00:46.417388Z",
          "shell.execute_reply.started": "2021-11-19T03:02:17.43187Z"
        },
        "papermill": {
          "duration": 0.220738,
          "end_time": "2021-11-19T05:00:46.418095",
          "exception": false,
          "start_time": "2021-11-19T05:00:46.197357",
          "status": "completed"
        },
        "tags": [],
        "id": "428dcd63",
        "outputId": "c638136f-f78d-4587-8d6e-bfe1fa158fd4",
        "colab": {
          "base_uri": "https://localhost:8080/",
          "height": 472
        }
      },
      "outputs": [
        {
          "output_type": "display_data",
          "data": {
            "text/plain": [
              "<Figure size 640x480 with 1 Axes>"
            ],
            "image/png": "[encoded data removed]"
          },
          "metadata": {}
        }
      ],
      "source": [
        "plt.bar(list(range(10)),train_df['label'].value_counts())\n",
        "plt.xticks(list(range(10)))\n",
        "plt.xlabel('Digits')\n",
        "plt.ylabel('Frequency')\n",
        "plt.title('Distribution of various digits in Dataset')\n",
        "plt.show()"
      ]
    },
    {
      "cell_type": "markdown",
      "id": "b28809ba",
      "metadata": {
        "papermill": {
          "duration": 0.046753,
          "end_time": "2021-11-19T05:00:46.512086",
          "exception": false,
          "start_time": "2021-11-19T05:00:46.465333",
          "status": "completed"
        },
        "tags": [],
        "id": "b28809ba"
      },
      "source": [
        "### **Displaying single Image**"
      ]
    },
    {
      "cell_type": "code",
      "execution_count": 7,
      "id": "bbee71a6",
      "metadata": {
        "execution": {
          "iopub.execute_input": "2021-11-19T05:00:46.610591Z",
          "iopub.status.busy": "2021-11-19T05:00:46.609996Z",
          "iopub.status.idle": "2021-11-19T05:00:46.739358Z",
          "shell.execute_reply": "2021-11-19T05:00:46.738693Z",
          "shell.execute_reply.started": "2021-11-19T03:02:21.501837Z"
        },
        "papermill": {
          "duration": 0.179529,
          "end_time": "2021-11-19T05:00:46.739504",
          "exception": false,
          "start_time": "2021-11-19T05:00:46.559975",
          "status": "completed"
        },
        "tags": [],
        "id": "bbee71a6",
        "outputId": "6c1c4229-65a1-4e0d-f1f5-1ddf665fa28c",
        "colab": {
          "base_uri": "https://localhost:8080/",
          "height": 430
        }
      },
      "outputs": [
        {
          "output_type": "display_data",
          "data": {
            "text/plain": [
              "<Figure size 640x480 with 1 Axes>"
            ],
            "image/png": "[encoded data removed]"
          },
          "metadata": {}
        }
      ],
      "source": [
        "plt.imshow(x[0:1,:].reshape(28,28))\n",
        "plt.show()"
      ]
    },
    {
      "cell_type": "markdown",
      "id": "557629c2",
      "metadata": {
        "papermill": {
          "duration": 0.048145,
          "end_time": "2021-11-19T05:00:46.836865",
          "exception": false,
          "start_time": "2021-11-19T05:00:46.788720",
          "status": "completed"
        },
        "tags": [],
        "id": "557629c2"
      },
      "source": [
        "### **Displaying Random images as a grid**"
      ]
    },
    {
      "cell_type": "code",
      "execution_count": 8,
      "id": "1e57cdb4",
      "metadata": {
        "execution": {
          "iopub.execute_input": "2021-11-19T05:00:46.951994Z",
          "iopub.status.busy": "2021-11-19T05:00:46.951160Z",
          "iopub.status.idle": "2021-11-19T05:00:49.685926Z",
          "shell.execute_reply": "2021-11-19T05:00:49.686297Z",
          "shell.execute_reply.started": "2021-11-19T03:02:41.687046Z"
        },
        "papermill": {
          "duration": 2.801201,
          "end_time": "2021-11-19T05:00:49.686437",
          "exception": false,
          "start_time": "2021-11-19T05:00:46.885236",
          "status": "completed"
        },
        "tags": [],
        "id": "1e57cdb4",
        "outputId": "ba9f7978-91fc-470e-bbd1-8bc3b15ce855",
        "colab": {
          "base_uri": "https://localhost:8080/",
          "height": 683
        }
      },
      "outputs": [
        {
          "output_type": "display_data",
          "data": {
            "text/plain": [
              "<Figure size 1800x1100 with 18 Axes>"
            ],
            "image/png": "[encoded data removed]"
          },
          "metadata": {}
        }
      ],
      "source": [
        "fig,axes=plt.subplots(3,6,figsize=(18,11),sharex=True,sharey=True)\n",
        "for i,axes in enumerate(axes.flat):\n",
        "    random_digit=np.random.randint(0,y.shape[0])\n",
        "    axes.set_xlabel(y[random_digit])\n",
        "    axes.imshow(x[random_digit].reshape(28,28),cmap='gray')"
      ]
    },
    {
      "cell_type": "markdown",
      "id": "dcc82a67",
      "metadata": {
        "papermill": {
          "duration": 0.035366,
          "end_time": "2021-11-19T05:00:49.756676",
          "exception": false,
          "start_time": "2021-11-19T05:00:49.721310",
          "status": "completed"
        },
        "tags": [],
        "id": "dcc82a67"
      },
      "source": [
        "### **Converting the Fetures into a format that is accepted by the Nerual network for training**"
      ]
    },
    {
      "cell_type": "code",
      "execution_count": 9,
      "id": "a8bcc579",
      "metadata": {
        "execution": {
          "iopub.execute_input": "2021-11-19T05:00:49.903178Z",
          "iopub.status.busy": "2021-11-19T05:00:49.902655Z",
          "iopub.status.idle": "2021-11-19T05:00:55.468234Z",
          "shell.execute_reply": "2021-11-19T05:00:55.467678Z",
          "shell.execute_reply.started": "2021-11-19T03:02:52.219658Z"
        },
        "papermill": {
          "duration": 5.603742,
          "end_time": "2021-11-19T05:00:55.468343",
          "exception": false,
          "start_time": "2021-11-19T05:00:49.864601",
          "status": "completed"
        },
        "tags": [],
        "id": "a8bcc579"
      },
      "outputs": [],
      "source": [
        "from tensorflow import keras\n",
        "x=x/255\n",
        "x_reshaped=x.reshape(x.shape[0],28,28,1)\n",
        "classes_count=len(np.unique(y))\n",
        "y_categorical=keras.utils.to_categorical(y,classes_count)"
      ]
    },
    {
      "cell_type": "markdown",
      "id": "c49646cc",
      "metadata": {
        "papermill": {
          "duration": 0.034863,
          "end_time": "2021-11-19T05:00:55.538901",
          "exception": false,
          "start_time": "2021-11-19T05:00:55.504038",
          "status": "completed"
        },
        "tags": [],
        "id": "c49646cc"
      },
      "source": [
        "### **Splitting the Dataset into Training, Testing and Cross Validation Datasets**"
      ]
    },
    {
      "cell_type": "code",
      "execution_count": 10,
      "id": "6f6c2dc5",
      "metadata": {
        "execution": {
          "iopub.execute_input": "2021-11-19T05:00:55.684611Z",
          "iopub.status.busy": "2021-11-19T05:00:55.684013Z",
          "iopub.status.idle": "2021-11-19T05:00:56.894590Z",
          "shell.execute_reply": "2021-11-19T05:00:56.894149Z",
          "shell.execute_reply.started": "2021-11-19T03:02:59.811907Z"
        },
        "papermill": {
          "duration": 1.251198,
          "end_time": "2021-11-19T05:00:56.894695",
          "exception": false,
          "start_time": "2021-11-19T05:00:55.643497",
          "status": "completed"
        },
        "tags": [],
        "id": "6f6c2dc5"
      },
      "outputs": [],
      "source": [
        "from sklearn.model_selection import train_test_split\n",
        "x_train,x_test,y_train,y_test=train_test_split(x_reshaped,y_categorical,test_size=0.2,stratify=y)\n",
        "x_train,x_cv,y_train,y_cv=train_test_split(x_train,y_train,test_size=0.2,stratify=y_train)"
      ]
    },
    {
      "cell_type": "markdown",
      "id": "38f2b202",
      "metadata": {
        "papermill": {
          "duration": 0.034569,
          "end_time": "2021-11-19T05:00:56.964058",
          "exception": false,
          "start_time": "2021-11-19T05:00:56.929489",
          "status": "completed"
        },
        "tags": [],
        "id": "38f2b202"
      },
      "source": [
        "## **Building a Convolution Neural Network**"
      ]
    },
    {
      "cell_type": "markdown",
      "id": "2648f776",
      "metadata": {
        "papermill": {
          "duration": 0.035485,
          "end_time": "2021-11-19T05:00:57.034489",
          "exception": false,
          "start_time": "2021-11-19T05:00:56.999004",
          "status": "completed"
        },
        "tags": [],
        "id": "2648f776"
      },
      "source": [
        "<img src=\"https://www.mathworks.com/help/deeplearning/ug/deep_learning_architecture600pixels.png\"/>"
      ]
    },
    {
      "cell_type": "code",
      "execution_count": 11,
      "id": "a279d616",
      "metadata": {
        "execution": {
          "iopub.execute_input": "2021-11-19T05:00:57.112876Z",
          "iopub.status.busy": "2021-11-19T05:00:57.112132Z",
          "iopub.status.idle": "2021-11-19T05:00:57.271440Z",
          "shell.execute_reply": "2021-11-19T05:00:57.270928Z",
          "shell.execute_reply.started": "2021-11-19T03:18:45.372898Z"
        },
        "papermill": {
          "duration": 0.20257,
          "end_time": "2021-11-19T05:00:57.271548",
          "exception": false,
          "start_time": "2021-11-19T05:00:57.068978",
          "status": "completed"
        },
        "tags": [],
        "id": "a279d616"
      },
      "outputs": [],
      "source": [
        "from tensorflow.keras.models import Sequential\n",
        "from tensorflow.keras.layers import Dense, Flatten, Conv2D,MaxPooling2D,Dropout\n",
        "from tensorflow.keras.optimizers import Adam\n",
        "model=Sequential()\n",
        "filters_count=64\n",
        "filter1_size=(5,5)\n",
        "filter2_size=(3,3)\n",
        "pool_kernel_size=(2,2)\n",
        "node_count=500\n",
        "model.add(Conv2D(\n",
        "          filters_count,\n",
        "          filter1_size,\n",
        "          input_shape=(x_train.shape[1],x_train.shape[2],1),\n",
        "          activation='relu'\n",
        "))\n",
        "model.add(Conv2D(\n",
        "          filters_count,\n",
        "          filter1_size,\n",
        "          activation='relu'\n",
        "))\n",
        "model.add(MaxPooling2D(pool_size=pool_kernel_size))\n",
        "model.add(Conv2D(\n",
        "          filters_count//2,\n",
        "          filter1_size,\n",
        "          input_shape=(x_train.shape[1],x_train.shape[2],1),\n",
        "          activation='relu'\n",
        "))\n",
        "model.add(Conv2D(\n",
        "          filters_count//2,\n",
        "          filter1_size,\n",
        "          input_shape=(x_train.shape[1],x_train.shape[2],1),\n",
        "          activation='relu'\n",
        "))\n",
        "model.add(MaxPooling2D(pool_size=pool_kernel_size))\n",
        "model.add(Dropout(0.5))\n",
        "model.add(Flatten())\n",
        "model.add(Dense(node_count,activation='relu'))\n",
        "model.add(Dropout(0.5))\n",
        "model.add(Dense(classes_count,activation='softmax'))\n",
        "model.compile(Adam(learning_rate=0.001),loss='categorical_crossentropy',metrics='accuracy')\n"
      ]
    },
    {
      "cell_type": "markdown",
      "id": "90886d72",
      "metadata": {
        "papermill": {
          "duration": 0.035745,
          "end_time": "2021-11-19T05:00:57.343332",
          "exception": false,
          "start_time": "2021-11-19T05:00:57.307587",
          "status": "completed"
        },
        "tags": [],
        "id": "90886d72"
      },
      "source": [
        "### **Architecture of the model**"
      ]
    },
    {
      "cell_type": "code",
      "execution_count": 12,
      "id": "a078deb9",
      "metadata": {
        "execution": {
          "iopub.execute_input": "2021-11-19T05:00:57.463917Z",
          "iopub.status.busy": "2021-11-19T05:00:57.463176Z",
          "iopub.status.idle": "2021-11-19T05:00:57.471330Z",
          "shell.execute_reply": "2021-11-19T05:00:57.470809Z",
          "shell.execute_reply.started": "2021-11-19T03:18:20.152202Z"
        },
        "papermill": {
          "duration": 0.048888,
          "end_time": "2021-11-19T05:00:57.471473",
          "exception": false,
          "start_time": "2021-11-19T05:00:57.422585",
          "status": "completed"
        },
        "tags": [],
        "id": "a078deb9",
        "outputId": "3b055e1f-b7e0-418a-de3a-5d762fb438c2",
        "colab": {
          "base_uri": "https://localhost:8080/"
        }
      },
      "outputs": [
        {
          "output_type": "stream",
          "name": "stdout",
          "text": [
            "Model: \"sequential\"\n",
            "_________________________________________________________________\n",
            " Layer (type)                Output Shape              Param #   \n",
            "=================================================================\n",
            " conv2d (Conv2D)             (None, 24, 24, 64)        1664      \n",
            "                                                                 \n",
            " conv2d_1 (Conv2D)           (None, 20, 20, 64)        102464    \n",
            "                                                                 \n",
            " max_pooling2d (MaxPooling2  (None, 10, 10, 64)        0         \n",
            " D)                                                              \n",
            "                                                                 \n",
            " conv2d_2 (Conv2D)           (None, 6, 6, 32)          51232     \n",
            "                                                                 \n",
            " conv2d_3 (Conv2D)           (None, 2, 2, 32)          25632     \n",
            "                                                                 \n",
            " max_pooling2d_1 (MaxPoolin  (None, 1, 1, 32)          0         \n",
            " g2D)                                                            \n",
            "                                                                 \n",
            " dropout (Dropout)           (None, 1, 1, 32)          0         \n",
            "                                                                 \n",
            " flatten (Flatten)           (None, 32)                0         \n",
            "                                                                 \n",
            " dense (Dense)               (None, 500)               16500     \n",
            "                                                                 \n",
            " dropout_1 (Dropout)         (None, 500)               0         \n",
            "                                                                 \n",
            " dense_1 (Dense)             (None, 10)                5010      \n",
            "                                                                 \n",
            "=================================================================\n",
            "Total params: 202502 (791.02 KB)\n",
            "Trainable params: 202502 (791.02 KB)\n",
            "Non-trainable params: 0 (0.00 Byte)\n",
            "_________________________________________________________________\n"
          ]
        }
      ],
      "source": [
        "model.summary()"
      ]
    },
    {
      "cell_type": "markdown",
      "id": "3e321273",
      "metadata": {
        "papermill": {
          "duration": 0.035731,
          "end_time": "2021-11-19T05:00:57.543815",
          "exception": false,
          "start_time": "2021-11-19T05:00:57.508084",
          "status": "completed"
        },
        "tags": [],
        "id": "3e321273"
      },
      "source": [
        "### **Adding callbacks to save the best model and to stop training when there is no significant change in the Validation Accuracy**"
      ]
    },
    {
      "cell_type": "code",
      "execution_count": 13,
      "id": "d30efe3d",
      "metadata": {
        "execution": {
          "iopub.execute_input": "2021-11-19T05:00:57.622032Z",
          "iopub.status.busy": "2021-11-19T05:00:57.621401Z",
          "iopub.status.idle": "2021-11-19T05:00:57.624902Z",
          "shell.execute_reply": "2021-11-19T05:00:57.624428Z",
          "shell.execute_reply.started": "2021-11-15T01:49:37.489254Z"
        },
        "papermill": {
          "duration": 0.045044,
          "end_time": "2021-11-19T05:00:57.625022",
          "exception": false,
          "start_time": "2021-11-19T05:00:57.579978",
          "status": "completed"
        },
        "tags": [],
        "id": "d30efe3d"
      },
      "outputs": [],
      "source": [
        "from tensorflow.keras.callbacks import EarlyStopping\n",
        "from tensorflow.keras.callbacks import ModelCheckpoint\n",
        "earlyStopping=EarlyStopping(monitor='accuracy',mode='min',verbose=1,patience=50)\n",
        "checkpoints=ModelCheckpoint(\"Digit_Recognizer.h5\",monitor='val_accuracy',mode='min',save_best_only=True)"
      ]
    },
    {
      "cell_type": "markdown",
      "id": "a898ffbe",
      "metadata": {
        "papermill": {
          "duration": 0.036358,
          "end_time": "2021-11-19T05:00:57.698035",
          "exception": false,
          "start_time": "2021-11-19T05:00:57.661677",
          "status": "completed"
        },
        "tags": [],
        "id": "a898ffbe"
      },
      "source": [
        "### **Training the CNN model with the train datasest**"
      ]
    },
    {
      "cell_type": "markdown",
      "id": "341f5484",
      "metadata": {
        "papermill": {
          "duration": 0.036498,
          "end_time": "2021-11-19T05:00:57.771288",
          "exception": false,
          "start_time": "2021-11-19T05:00:57.734790",
          "status": "completed"
        },
        "tags": [],
        "id": "341f5484"
      },
      "source": [
        "<img src=\"https://ars.els-cdn.com/content/image/1-s2.0-S0893608020301301-gr1.jpg\"\n",
        "     style=\"display: block;margin-left:auto;margin-right:auto;width:50%;\"/>"
      ]
    },
    {
      "cell_type": "code",
      "execution_count": 14,
      "id": "e50be5eb",
      "metadata": {
        "execution": {
          "iopub.execute_input": "2021-11-19T05:00:57.850472Z",
          "iopub.status.busy": "2021-11-19T05:00:57.849966Z",
          "iopub.status.idle": "2021-11-19T05:57:01.753851Z",
          "shell.execute_reply": "2021-11-19T05:57:01.753070Z",
          "shell.execute_reply.started": "2021-11-15T01:49:38.128956Z"
        },
        "papermill": {
          "duration": 3363.94571,
          "end_time": "2021-11-19T05:57:01.754094",
          "exception": false,
          "start_time": "2021-11-19T05:00:57.808384",
          "status": "completed"
        },
        "tags": [],
        "id": "e50be5eb",
        "outputId": "a5fd1c1e-0cf1-4ae2-dc24-637d129d24d9",
        "colab": {
          "base_uri": "https://localhost:8080/"
        }
      },
      "outputs": [
        {
          "output_type": "stream",
          "name": "stdout",
          "text": [
            "Epoch 1/100\n",
            "169/169 [==============================] - 78s 455ms/step - loss: 1.4363 - accuracy: 0.4770 - val_loss: 0.3446 - val_accuracy: 0.9157\n",
            "Epoch 2/100\n"
          ]
        },
        {
          "output_type": "stream",
          "name": "stderr",
          "text": [
            "/usr/local/lib/python3.10/dist-packages/keras/src/engine/training.py:3079: UserWarning: You are saving your model as an HDF5 file via `model.save()`. This file format is considered legacy. We recommend using instead the native Keras format, e.g. `model.save('my_model.keras')`.\n",
            "  saving_api.save_model(\n"
          ]
        },
        {
          "output_type": "stream",
          "name": "stdout",
          "text": [
            "169/169 [==============================] - 70s 412ms/step - loss: 0.6279 - accuracy: 0.7783 - val_loss: 0.1624 - val_accuracy: 0.9526\n",
            "Epoch 3/100\n",
            "169/169 [==============================] - 61s 359ms/step - loss: 0.4325 - accuracy: 0.8523 - val_loss: 0.1512 - val_accuracy: 0.9578\n",
            "Epoch 4/100\n",
            "169/169 [==============================] - 60s 355ms/step - loss: 0.3559 - accuracy: 0.8754 - val_loss: 0.1177 - val_accuracy: 0.9664\n",
            "Epoch 5/100\n",
            "169/169 [==============================] - 62s 365ms/step - loss: 0.3138 - accuracy: 0.8870 - val_loss: 0.1027 - val_accuracy: 0.9711\n",
            "Epoch 6/100\n",
            "169/169 [==============================] - 61s 363ms/step - loss: 0.2744 - accuracy: 0.9039 - val_loss: 0.1049 - val_accuracy: 0.9702\n",
            "Epoch 7/100\n",
            "169/169 [==============================] - 60s 356ms/step - loss: 0.2430 - accuracy: 0.9121 - val_loss: 0.0815 - val_accuracy: 0.9758\n",
            "Epoch 8/100\n",
            "169/169 [==============================] - 58s 343ms/step - loss: 0.2332 - accuracy: 0.9125 - val_loss: 0.0906 - val_accuracy: 0.9730\n",
            "Epoch 9/100\n",
            "169/169 [==============================] - 62s 366ms/step - loss: 0.2213 - accuracy: 0.9192 - val_loss: 0.0884 - val_accuracy: 0.9730\n",
            "Epoch 10/100\n",
            "169/169 [==============================] - 60s 353ms/step - loss: 0.1945 - accuracy: 0.9321 - val_loss: 0.0584 - val_accuracy: 0.9806\n",
            "Epoch 11/100\n",
            "169/169 [==============================] - 60s 356ms/step - loss: 0.1750 - accuracy: 0.9382 - val_loss: 0.0929 - val_accuracy: 0.9758\n",
            "Epoch 12/100\n",
            "169/169 [==============================] - 59s 348ms/step - loss: 0.1775 - accuracy: 0.9354 - val_loss: 0.0677 - val_accuracy: 0.9806\n",
            "Epoch 13/100\n",
            "169/169 [==============================] - 59s 352ms/step - loss: 0.1687 - accuracy: 0.9412 - val_loss: 0.0690 - val_accuracy: 0.9834\n",
            "Epoch 14/100\n",
            "169/169 [==============================] - 58s 344ms/step - loss: 0.1458 - accuracy: 0.9468 - val_loss: 0.0698 - val_accuracy: 0.9820\n",
            "Epoch 15/100\n",
            "169/169 [==============================] - 61s 361ms/step - loss: 0.1395 - accuracy: 0.9501 - val_loss: 0.0710 - val_accuracy: 0.9787\n",
            "Epoch 16/100\n",
            "169/169 [==============================] - 60s 355ms/step - loss: 0.1305 - accuracy: 0.9520 - val_loss: 0.0613 - val_accuracy: 0.9825\n",
            "Epoch 17/100\n",
            "169/169 [==============================] - 58s 343ms/step - loss: 0.1244 - accuracy: 0.9575 - val_loss: 0.0737 - val_accuracy: 0.9792\n",
            "Epoch 18/100\n",
            "169/169 [==============================] - 59s 349ms/step - loss: 0.1170 - accuracy: 0.9575 - val_loss: 0.0721 - val_accuracy: 0.9806\n",
            "Epoch 19/100\n",
            "169/169 [==============================] - 60s 355ms/step - loss: 0.1206 - accuracy: 0.9598 - val_loss: 0.0764 - val_accuracy: 0.9777\n",
            "Epoch 20/100\n",
            "169/169 [==============================] - 58s 344ms/step - loss: 0.1057 - accuracy: 0.9626 - val_loss: 0.0794 - val_accuracy: 0.9792\n",
            "Epoch 21/100\n",
            "169/169 [==============================] - 60s 355ms/step - loss: 0.1076 - accuracy: 0.9620 - val_loss: 0.0505 - val_accuracy: 0.9858\n",
            "Epoch 22/100\n",
            "169/169 [==============================] - 60s 355ms/step - loss: 0.1018 - accuracy: 0.9652 - val_loss: 0.0735 - val_accuracy: 0.9825\n",
            "Epoch 23/100\n",
            "169/169 [==============================] - 59s 347ms/step - loss: 0.0836 - accuracy: 0.9719 - val_loss: 0.0757 - val_accuracy: 0.9815\n",
            "Epoch 24/100\n",
            "169/169 [==============================] - 60s 356ms/step - loss: 0.0875 - accuracy: 0.9705 - val_loss: 0.0694 - val_accuracy: 0.9815\n",
            "Epoch 25/100\n",
            "169/169 [==============================] - 60s 356ms/step - loss: 0.0935 - accuracy: 0.9669 - val_loss: 0.0604 - val_accuracy: 0.9853\n",
            "Epoch 26/100\n",
            "169/169 [==============================] - 59s 348ms/step - loss: 0.0882 - accuracy: 0.9673 - val_loss: 0.0593 - val_accuracy: 0.9825\n",
            "Epoch 27/100\n",
            "169/169 [==============================] - 60s 356ms/step - loss: 0.0822 - accuracy: 0.9735 - val_loss: 0.0751 - val_accuracy: 0.9834\n",
            "Epoch 28/100\n",
            "169/169 [==============================] - 60s 356ms/step - loss: 0.0799 - accuracy: 0.9748 - val_loss: 0.0776 - val_accuracy: 0.9801\n",
            "Epoch 29/100\n",
            "169/169 [==============================] - 61s 363ms/step - loss: 0.0753 - accuracy: 0.9730 - val_loss: 0.0678 - val_accuracy: 0.9829\n",
            "Epoch 30/100\n",
            "169/169 [==============================] - 59s 351ms/step - loss: 0.0707 - accuracy: 0.9745 - val_loss: 0.0586 - val_accuracy: 0.9863\n",
            "Epoch 31/100\n",
            "169/169 [==============================] - 58s 341ms/step - loss: 0.0807 - accuracy: 0.9723 - val_loss: 0.0487 - val_accuracy: 0.9863\n",
            "Epoch 32/100\n",
            "169/169 [==============================] - 58s 346ms/step - loss: 0.0752 - accuracy: 0.9732 - val_loss: 0.0656 - val_accuracy: 0.9844\n",
            "Epoch 33/100\n",
            "169/169 [==============================] - 59s 352ms/step - loss: 0.0798 - accuracy: 0.9710 - val_loss: 0.0860 - val_accuracy: 0.9796\n",
            "Epoch 34/100\n",
            "169/169 [==============================] - 60s 355ms/step - loss: 0.0648 - accuracy: 0.9783 - val_loss: 0.0858 - val_accuracy: 0.9806\n",
            "Epoch 35/100\n",
            "169/169 [==============================] - 60s 356ms/step - loss: 0.0643 - accuracy: 0.9771 - val_loss: 0.0584 - val_accuracy: 0.9848\n",
            "Epoch 36/100\n",
            "169/169 [==============================] - 59s 351ms/step - loss: 0.0652 - accuracy: 0.9778 - val_loss: 0.0748 - val_accuracy: 0.9848\n",
            "Epoch 37/100\n",
            "169/169 [==============================] - 60s 352ms/step - loss: 0.0798 - accuracy: 0.9733 - val_loss: 0.0740 - val_accuracy: 0.9825\n",
            "Epoch 38/100\n",
            "169/169 [==============================] - 60s 355ms/step - loss: 0.0630 - accuracy: 0.9770 - val_loss: 0.0806 - val_accuracy: 0.9839\n",
            "Epoch 39/100\n",
            "169/169 [==============================] - 57s 339ms/step - loss: 0.0574 - accuracy: 0.9819 - val_loss: 0.0695 - val_accuracy: 0.9848\n",
            "Epoch 40/100\n",
            "169/169 [==============================] - 58s 345ms/step - loss: 0.0590 - accuracy: 0.9783 - val_loss: 0.0572 - val_accuracy: 0.9877\n",
            "Epoch 41/100\n",
            "169/169 [==============================] - 57s 340ms/step - loss: 0.0653 - accuracy: 0.9775 - val_loss: 0.0666 - val_accuracy: 0.9844\n",
            "Epoch 42/100\n",
            "169/169 [==============================] - 59s 347ms/step - loss: 0.0525 - accuracy: 0.9829 - val_loss: 0.0819 - val_accuracy: 0.9825\n",
            "Epoch 43/100\n",
            "169/169 [==============================] - 57s 340ms/step - loss: 0.0596 - accuracy: 0.9799 - val_loss: 0.0744 - val_accuracy: 0.9801\n",
            "Epoch 44/100\n",
            "169/169 [==============================] - 59s 346ms/step - loss: 0.0554 - accuracy: 0.9794 - val_loss: 0.0895 - val_accuracy: 0.9796\n",
            "Epoch 45/100\n",
            "169/169 [==============================] - 58s 342ms/step - loss: 0.0592 - accuracy: 0.9796 - val_loss: 0.0817 - val_accuracy: 0.9825\n",
            "Epoch 46/100\n",
            "169/169 [==============================] - 60s 355ms/step - loss: 0.0605 - accuracy: 0.9800 - val_loss: 0.0821 - val_accuracy: 0.9829\n",
            "Epoch 47/100\n",
            "169/169 [==============================] - 59s 348ms/step - loss: 0.0630 - accuracy: 0.9793 - val_loss: 0.0730 - val_accuracy: 0.9848\n",
            "Epoch 48/100\n",
            "169/169 [==============================] - 60s 352ms/step - loss: 0.0602 - accuracy: 0.9806 - val_loss: 0.0809 - val_accuracy: 0.9844\n",
            "Epoch 49/100\n",
            "169/169 [==============================] - 61s 360ms/step - loss: 0.0442 - accuracy: 0.9851 - val_loss: 0.1060 - val_accuracy: 0.9815\n",
            "Epoch 50/100\n",
            "169/169 [==============================] - 59s 347ms/step - loss: 0.0589 - accuracy: 0.9794 - val_loss: 0.0812 - val_accuracy: 0.9820\n",
            "Epoch 51/100\n",
            "169/169 [==============================] - 59s 352ms/step - loss: 0.0527 - accuracy: 0.9821 - val_loss: 0.0787 - val_accuracy: 0.9815\n",
            "Epoch 51: early stopping\n"
          ]
        }
      ],
      "source": [
        "history=model.fit(\n",
        "    x_train,\n",
        "    y_train,\n",
        "    batch_size=50,\n",
        "    epochs=100,\n",
        "    validation_data=(x_cv,y_cv),\n",
        "    callbacks=[earlyStopping,checkpoints])"
      ]
    },
    {
      "cell_type": "markdown",
      "id": "32740b50",
      "metadata": {
        "papermill": {
          "duration": 7.842803,
          "end_time": "2021-11-19T05:57:20.328009",
          "exception": false,
          "start_time": "2021-11-19T05:57:12.485206",
          "status": "completed"
        },
        "tags": [],
        "id": "32740b50"
      },
      "source": [
        "### **Plot between Training Loss and Training Accuracy**"
      ]
    },
    {
      "cell_type": "code",
      "execution_count": 15,
      "id": "f32fe859",
      "metadata": {
        "execution": {
          "iopub.execute_input": "2021-11-19T05:57:34.373391Z",
          "iopub.status.busy": "2021-11-19T05:57:34.372693Z",
          "iopub.status.idle": "2021-11-19T05:58:20.641868Z",
          "shell.execute_reply": "2021-11-19T05:58:20.641323Z",
          "shell.execute_reply.started": "2021-11-15T01:53:08.380033Z"
        },
        "papermill": {
          "duration": 53.333442,
          "end_time": "2021-11-19T05:58:20.642021",
          "exception": false,
          "start_time": "2021-11-19T05:57:27.308579",
          "status": "completed"
        },
        "tags": [],
        "id": "f32fe859",
        "outputId": "4f89e18f-8b92-410d-e5a0-3b436c4497db",
        "colab": {
          "base_uri": "https://localhost:8080/",
          "height": 472
        }
      },
      "outputs": [
        {
          "output_type": "display_data",
          "data": {
            "text/plain": [
              "<Figure size 640x480 with 1 Axes>"
            ],
            "image/png": "[encoded data removed]"
          },
          "metadata": {}
        }
      ],
      "source": [
        "plt.plot(history.history['loss'],label='Training_loss')\n",
        "plt.plot(history.history['accuracy'],label='Training_accuracy')\n",
        "plt.xlabel('Epochs')\n",
        "plt.title('Training Loss Vs Accuracy')\n",
        "plt.legend()\n",
        "plt.show()"
      ]
    },
    {
      "cell_type": "markdown",
      "id": "0c338a24",
      "metadata": {
        "papermill": {
          "duration": 10.871656,
          "end_time": "2021-11-19T05:58:42.092755",
          "exception": false,
          "start_time": "2021-11-19T05:58:31.221099",
          "status": "completed"
        },
        "tags": [],
        "id": "0c338a24"
      },
      "source": [
        "### **Plot between Testing Loss and Testing Accuracy**"
      ]
    },
    {
      "cell_type": "code",
      "execution_count": 16,
      "id": "0f5b0367",
      "metadata": {
        "execution": {
          "iopub.execute_input": "2021-11-19T05:59:03.548850Z",
          "iopub.status.busy": "2021-11-19T05:59:03.537014Z",
          "iopub.status.idle": "2021-11-19T05:59:03.706463Z",
          "shell.execute_reply": "2021-11-19T05:59:03.705889Z",
          "shell.execute_reply.started": "2021-11-15T01:54:00.985014Z"
        },
        "papermill": {
          "duration": 10.934806,
          "end_time": "2021-11-19T05:59:03.706616",
          "exception": false,
          "start_time": "2021-11-19T05:58:52.771810",
          "status": "completed"
        },
        "tags": [],
        "id": "0f5b0367",
        "outputId": "301b6e2f-bfd6-4eb0-c4a7-8e4206e7f31b",
        "colab": {
          "base_uri": "https://localhost:8080/",
          "height": 472
        }
      },
      "outputs": [
        {
          "output_type": "display_data",
          "data": {
            "text/plain": [
              "<Figure size 640x480 with 1 Axes>"
            ],
            "image/png": "[encoded data removed]"
          },
          "metadata": {}
        }
      ],
      "source": [
        "plt.plot(history.history['val_loss'],label='Testing_loss')\n",
        "plt.plot(history.history['val_accuracy'],label='Testing_accuracy')\n",
        "plt.xlabel('Epochs')\n",
        "plt.title('Testing Loss Vs Accuracy')\n",
        "plt.legend()\n",
        "plt.show()"
      ]
    },
    {
      "cell_type": "markdown",
      "id": "c659e093",
      "metadata": {
        "papermill": {
          "duration": 10.633259,
          "end_time": "2021-11-19T05:59:25.280730",
          "exception": false,
          "start_time": "2021-11-19T05:59:14.647471",
          "status": "completed"
        },
        "tags": [],
        "id": "c659e093"
      },
      "source": [
        "## <center> **Model Evaluation** </center>"
      ]
    },
    {
      "cell_type": "markdown",
      "id": "cea1fad4",
      "metadata": {
        "papermill": {
          "duration": 10.758201,
          "end_time": "2021-11-19T05:59:46.695507",
          "exception": false,
          "start_time": "2021-11-19T05:59:35.937306",
          "status": "completed"
        },
        "tags": [],
        "id": "cea1fad4"
      },
      "source": [
        "### **Displaying the Training and Testing Accuracies**"
      ]
    },
    {
      "cell_type": "code",
      "execution_count": 17,
      "id": "2b0a52d2",
      "metadata": {
        "execution": {
          "iopub.execute_input": "2021-11-19T06:00:08.111685Z",
          "iopub.status.busy": "2021-11-19T06:00:08.110966Z",
          "iopub.status.idle": "2021-11-19T06:00:29.165559Z",
          "shell.execute_reply": "2021-11-19T06:00:29.166244Z",
          "shell.execute_reply.started": "2021-11-15T01:54:01.264855Z"
        },
        "papermill": {
          "duration": 31.848127,
          "end_time": "2021-11-19T06:00:29.166459",
          "exception": false,
          "start_time": "2021-11-19T05:59:57.318332",
          "status": "completed"
        },
        "tags": [],
        "id": "2b0a52d2",
        "outputId": "6a056e5e-85cd-4ffd-c4d2-4e2bfd197448",
        "colab": {
          "base_uri": "https://localhost:8080/"
        }
      },
      "outputs": [
        {
          "output_type": "stream",
          "name": "stdout",
          "text": [
            "264/264 [==============================] - 16s 60ms/step - loss: 0.3345 - accuracy: 0.9151\n",
            "Training Accuracy: 0.9150574803352356\n"
          ]
        }
      ],
      "source": [
        "from tensorflow.keras.models import load_model\n",
        "model=load_model('Digit_Recognizer.h5')\n",
        "_,train_accuracy=model.evaluate(x_train,y_train)\n",
        "print(f\"Training Accuracy: {train_accuracy}\")"
      ]
    },
    {
      "cell_type": "code",
      "execution_count": 18,
      "id": "28d2b55b",
      "metadata": {
        "execution": {
          "iopub.execute_input": "2021-11-19T06:00:47.158966Z",
          "iopub.status.busy": "2021-11-19T06:00:47.158443Z",
          "iopub.status.idle": "2021-11-19T06:00:54.419093Z",
          "shell.execute_reply": "2021-11-19T06:00:54.418384Z",
          "shell.execute_reply.started": "2021-11-15T01:54:03.705149Z"
        },
        "papermill": {
          "duration": 14.245267,
          "end_time": "2021-11-19T06:00:54.419250",
          "exception": false,
          "start_time": "2021-11-19T06:00:40.173983",
          "status": "completed"
        },
        "tags": [],
        "id": "28d2b55b",
        "outputId": "caae73fd-ff5a-4b4b-99ae-aede16dca984",
        "colab": {
          "base_uri": "https://localhost:8080/"
        }
      },
      "outputs": [
        {
          "output_type": "stream",
          "name": "stdout",
          "text": [
            "83/83 [==============================] - 4s 51ms/step - loss: 0.3465 - accuracy: 0.9079\n",
            "Testing Accuracy: 0.9078847765922546\n"
          ]
        }
      ],
      "source": [
        "_,test_accuracy=model.evaluate(x_test,y_test)\n",
        "print(f\"Testing Accuracy: {test_accuracy}\")"
      ]
    },
    {
      "cell_type": "markdown",
      "id": "b22d6f76",
      "metadata": {
        "papermill": {
          "duration": 10.904251,
          "end_time": "2021-11-19T06:01:16.438745",
          "exception": false,
          "start_time": "2021-11-19T06:01:05.534494",
          "status": "completed"
        },
        "tags": [],
        "id": "b22d6f76"
      },
      "source": [
        "### **Confusion Matrix for evaluating predictions on Test dataset.**"
      ]
    },
    {
      "cell_type": "code",
      "execution_count": 19,
      "id": "af10485e",
      "metadata": {
        "execution": {
          "iopub.execute_input": "2021-11-19T06:01:38.168702Z",
          "iopub.status.busy": "2021-11-19T06:01:38.168051Z",
          "iopub.status.idle": "2021-11-19T06:01:45.160181Z",
          "shell.execute_reply": "2021-11-19T06:01:45.159522Z",
          "shell.execute_reply.started": "2021-11-15T01:54:46.28346Z"
        },
        "papermill": {
          "duration": 17.68789,
          "end_time": "2021-11-19T06:01:45.160314",
          "exception": false,
          "start_time": "2021-11-19T06:01:27.472424",
          "status": "completed"
        },
        "tags": [],
        "id": "af10485e",
        "outputId": "b284e29f-e0b7-4b52-d290-8153e5b82b63",
        "colab": {
          "base_uri": "https://localhost:8080/",
          "height": 847
        }
      },
      "outputs": [
        {
          "output_type": "stream",
          "name": "stdout",
          "text": [
            "83/83 [==============================] - 4s 50ms/step\n"
          ]
        },
        {
          "output_type": "display_data",
          "data": {
            "text/plain": [
              "<Figure size 1200x1000 with 2 Axes>"
            ],
            "image/png": "[encoded data removed]"
          },
          "metadata": {}
        }
      ],
      "source": [
        "from sklearn.metrics import classification_report\n",
        "from sklearn.metrics import confusion_matrix\n",
        "import seaborn as sns\n",
        "plt.figure(figsize=(12,10))\n",
        "y_hat=model.predict(x_test)\n",
        "y_hat=np.argmax(y_hat,axis=1)\n",
        "y_true=np.argmax(y_test,axis=1)\n",
        "sns.heatmap(confusion_matrix(y_true,y_hat),annot=True)\n",
        "plt.show()"
      ]
    },
    {
      "cell_type": "markdown",
      "id": "1064a2a9",
      "metadata": {
        "papermill": {
          "duration": 6.883124,
          "end_time": "2021-11-19T06:02:01.732833",
          "exception": false,
          "start_time": "2021-11-19T06:01:54.849709",
          "status": "completed"
        },
        "tags": [],
        "id": "1064a2a9"
      },
      "source": [
        "### **Classification Report of Test Predictions**"
      ]
    },
    {
      "cell_type": "code",
      "execution_count": 20,
      "id": "d91d53b7",
      "metadata": {
        "execution": {
          "iopub.execute_input": "2021-11-19T06:02:19.411903Z",
          "iopub.status.busy": "2021-11-19T06:02:19.411241Z",
          "iopub.status.idle": "2021-11-19T06:02:19.432581Z",
          "shell.execute_reply": "2021-11-19T06:02:19.433217Z",
          "shell.execute_reply.started": "2021-11-15T01:54:54.443359Z"
        },
        "papermill": {
          "duration": 10.728279,
          "end_time": "2021-11-19T06:02:19.433434",
          "exception": false,
          "start_time": "2021-11-19T06:02:08.705155",
          "status": "completed"
        },
        "tags": [],
        "id": "d91d53b7",
        "outputId": "4b0ce738-8688-4cdb-cd07-9d43f905e4d1",
        "colab": {
          "base_uri": "https://localhost:8080/"
        }
      },
      "outputs": [
        {
          "output_type": "stream",
          "name": "stdout",
          "text": [
            "              precision    recall  f1-score   support\n",
            "\n",
            "           0       0.93      0.98      0.96       259\n",
            "           1       0.95      0.96      0.96       295\n",
            "           2       0.98      0.87      0.93       269\n",
            "           3       0.95      0.87      0.91       267\n",
            "           4       0.96      0.94      0.95       257\n",
            "           5       0.86      0.82      0.84       242\n",
            "           6       0.92      0.96      0.94       264\n",
            "           7       0.90      0.88      0.89       275\n",
            "           8       0.83      0.87      0.84       252\n",
            "           9       0.82      0.91      0.86       258\n",
            "\n",
            "    accuracy                           0.91      2638\n",
            "   macro avg       0.91      0.91      0.91      2638\n",
            "weighted avg       0.91      0.91      0.91      2638\n",
            "\n"
          ]
        }
      ],
      "source": [
        "print(classification_report(y_true,y_hat))"
      ]
    },
    {
      "cell_type": "markdown",
      "id": "43c2a810",
      "metadata": {
        "papermill": {
          "duration": 10.736215,
          "end_time": "2021-11-19T06:02:41.097538",
          "exception": false,
          "start_time": "2021-11-19T06:02:30.361323",
          "status": "completed"
        },
        "tags": [],
        "id": "43c2a810"
      },
      "source": [
        "### **Predicting the digits in the ramdom images and displaying it on the X-axis**"
      ]
    },
    {
      "cell_type": "code",
      "execution_count": 21,
      "id": "09250894",
      "metadata": {
        "execution": {
          "iopub.execute_input": "2021-11-19T06:03:02.902109Z",
          "iopub.status.busy": "2021-11-19T06:03:02.901286Z",
          "iopub.status.idle": "2021-11-19T06:03:06.743608Z",
          "shell.execute_reply": "2021-11-19T06:03:06.744177Z",
          "shell.execute_reply.started": "2021-11-15T01:54:58.338196Z"
        },
        "papermill": {
          "duration": 14.719233,
          "end_time": "2021-11-19T06:03:06.744365",
          "exception": false,
          "start_time": "2021-11-19T06:02:52.025132",
          "status": "completed"
        },
        "tags": [],
        "id": "09250894",
        "outputId": "bbd7b6e0-d760-4520-ead4-c8d7a57e76ef",
        "colab": {
          "base_uri": "https://localhost:8080/",
          "height": 986
        }
      },
      "outputs": [
        {
          "output_type": "stream",
          "name": "stdout",
          "text": [
            "1/1 [==============================] - 0s 37ms/step\n",
            "1/1 [==============================] - 0s 22ms/step\n",
            "1/1 [==============================] - 0s 23ms/step\n",
            "1/1 [==============================] - 0s 24ms/step\n",
            "1/1 [==============================] - 0s 24ms/step\n",
            "1/1 [==============================] - 0s 23ms/step\n",
            "1/1 [==============================] - 0s 24ms/step\n",
            "1/1 [==============================] - 0s 28ms/step\n",
            "1/1 [==============================] - 0s 25ms/step\n",
            "1/1 [==============================] - 0s 24ms/step\n",
            "1/1 [==============================] - 0s 28ms/step\n",
            "1/1 [==============================] - 0s 24ms/step\n",
            "1/1 [==============================] - 0s 27ms/step\n",
            "1/1 [==============================] - 0s 24ms/step\n",
            "1/1 [==============================] - 0s 25ms/step\n",
            "1/1 [==============================] - 0s 23ms/step\n",
            "1/1 [==============================] - 0s 23ms/step\n",
            "1/1 [==============================] - 0s 22ms/step\n"
          ]
        },
        {
          "output_type": "display_data",
          "data": {
            "text/plain": [
              "<Figure size 1800x1100 with 18 Axes>"
            ],
            "image/png": "[encoded data removed]"
          },
          "metadata": {}
        }
      ],
      "source": [
        "fig,axes=plt.subplots(3,6,figsize=(18,11),sharex=True,sharey=True)\n",
        "for i,axes in enumerate(axes.flat):\n",
        "    random_digit=np.random.randint(0,x_test.shape[0])\n",
        "    axes.set_xlabel(f\"Predicted: {np.argmax(model.predict(np.expand_dims(x_test[random_digit],0)))}\")\n",
        "    axes.set_ylabel(f\"Actual: {np.argmax(y_test[random_digit])}\")\n",
        "    axes.imshow(x_test[random_digit].reshape(28,28))"
      ]
    },
    {
      "cell_type": "markdown",
      "id": "216822ca",
      "metadata": {
        "papermill": {
          "duration": 10.947613,
          "end_time": "2021-11-19T06:03:28.503613",
          "exception": false,
          "start_time": "2021-11-19T06:03:17.556000",
          "status": "completed"
        },
        "tags": [],
        "id": "216822ca"
      },
      "source": [
        "### **Making Predictions on the Unseen Data**"
      ]
    },
    {
      "cell_type": "code",
      "execution_count": 22,
      "id": "e249fe92",
      "metadata": {
        "execution": {
          "iopub.execute_input": "2021-11-19T06:03:50.213463Z",
          "iopub.status.busy": "2021-11-19T06:03:50.212755Z",
          "iopub.status.idle": "2021-11-19T06:03:50.275937Z",
          "shell.execute_reply": "2021-11-19T06:03:50.276474Z",
          "shell.execute_reply.started": "2021-11-15T01:55:06.086898Z"
        },
        "papermill": {
          "duration": 10.95115,
          "end_time": "2021-11-19T06:03:50.276669",
          "exception": false,
          "start_time": "2021-11-19T06:03:39.325519",
          "status": "completed"
        },
        "tags": [],
        "id": "e249fe92"
      },
      "outputs": [],
      "source": [
        "test_images=test_df.values\n",
        "test_images=test_images.reshape(len(test_df),28,28,1)\n",
        "test_images=test_images/255"
      ]
    },
    {
      "cell_type": "code",
      "execution_count": 23,
      "id": "44bb665b",
      "metadata": {
        "execution": {
          "iopub.execute_input": "2021-11-19T06:04:11.957440Z",
          "iopub.status.busy": "2021-11-19T06:04:11.956805Z",
          "iopub.status.idle": "2021-11-19T06:04:31.858017Z",
          "shell.execute_reply": "2021-11-19T06:04:31.857189Z",
          "shell.execute_reply.started": "2021-11-15T01:55:06.880541Z"
        },
        "papermill": {
          "duration": 30.906259,
          "end_time": "2021-11-19T06:04:31.858178",
          "exception": false,
          "start_time": "2021-11-19T06:04:00.951919",
          "status": "completed"
        },
        "tags": [],
        "id": "44bb665b",
        "colab": {
          "base_uri": "https://localhost:8080/"
        },
        "outputId": "a9cadfef-efe3-4eff-e0a3-405ae2ee99d9"
      },
      "outputs": [
        {
          "output_type": "stream",
          "name": "stdout",
          "text": [
            "431/431 [==============================] - 24s 56ms/step\n"
          ]
        }
      ],
      "source": [
        "\n",
        "y_pred=model.predict(test_images)\n",
        "y_pred=np.argmax(y_pred,axis=1)\n",
        "submission=pd.DataFrame({\"ImageId\":list(range(1,len(y_pred)+1)),\"Label\": y_pred})\n",
        "submission.to_csv(\"submission.csv\",index=False,header=True)"
      ]
    }
  ],
  "metadata": {
    "kernelspec": {
      "display_name": "Python 3",
      "language": "python",
      "name": "python3"
    },
    "language_info": {
      "codemirror_mode": {
        "name": "ipython",
        "version": 3
      },
      "file_extension": ".py",
      "mimetype": "text/x-python",
      "name": "python",
      "nbconvert_exporter": "python",
      "pygments_lexer": "ipython3",
      "version": "3.7.10"
    },
    "papermill": {
      "default_parameters": {},
      "duration": 3864.653696,
      "end_time": "2021-11-19T06:04:57.264851",
      "environment_variables": {},
      "exception": null,
      "input_path": "__notebook__.ipynb",
      "output_path": "__notebook__.ipynb",
      "parameters": {},
      "start_time": "2021-11-19T05:00:32.611155",
      "version": "2.3.3"
    },
    "colab": {
      "provenance": []
    }
  },
  "nbformat": 4,
  "nbformat_minor": 5
}